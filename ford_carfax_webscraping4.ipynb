{
 "cells": [
  {
   "cell_type": "markdown",
   "metadata": {},
   "source": [
    "# CARFAX WEB SCRAPING 4\n",
    "- Web Scraping for Ford Mach-E and Edge MY 21-24 from CarFax by first initializing the search\n"
   ]
  },
  {
   "cell_type": "code",
   "execution_count": 5,
   "metadata": {},
   "outputs": [],
   "source": [
    "import pytest\n",
    "import time\n",
    "import json\n",
    "from selenium import webdriver\n",
    "from selenium.webdriver.common.by import By\n",
    "from selenium.webdriver import Remote, ChromeOptions\n",
    "from selenium.webdriver.common.action_chains import ActionChains\n",
    "from selenium.webdriver.support import expected_conditions\n",
    "from selenium.webdriver.support.wait import WebDriverWait\n",
    "from selenium.webdriver.common.keys import Keys\n",
    "from selenium.webdriver.common.desired_capabilities import DesiredCapabilities\n",
    "from selenium.webdriver.chromium.remote_connection import ChromiumRemoteConnection\n",
    "\n",
    "import pandas as pd\n",
    "import time\n",
    "import random\n"
   ]
  },
  {
   "cell_type": "code",
   "execution_count": 3,
   "metadata": {},
   "outputs": [],
   "source": [
    "def scrape_carfax(driver, url):\n",
    "    # Navigate to the given URL\n",
    "    print(\"Opening provided URL...\")\n",
    "    driver.get(url)\n",
    "    driver.get_screenshot_as_file(\"images/step_1_page_loaded.png\")  # Take screenshot after loading URL\n",
    "    time.sleep(2)  # Brief pause for the page load\n",
    "\n",
    "    # Set radius to \"Unlimited\" if needed\n",
    "    print(\"Setting search radius to Unlimited...\")\n",
    "    try:\n",
    "        set_distance_to_unlimited(driver)\n",
    "    except Exception as e:\n",
    "        print(f\"Could not set search radius to Unlimited: {str(e)}\")\n",
    "\n",
    "    # Scrape listings\n",
    "    print(\"Scraping vehicle listings...\")\n",
    "    soup = BeautifulSoup(driver.page_source, 'html.parser')\n",
    "    listings = soup.find_all('div', class_='srp-list-item')  # Adjust class if necessary\n",
    "\n",
    "    # Initialize a DataFrame to store results\n",
    "    columns = [\n",
    "        \"Make\", \"Year\", \"Model\", \"Trim\", \"VIN #\", \"CARFAX Value\", \"Mileage\", \n",
    "        \"Accidents\", \"Damage\", \"Service History\", \"# Previous Owners\", \n",
    "        \"Drive Type\", \"Open Recalls\", \"Personal Vehicle\", \"Location\"\n",
    "    ]\n",
    "    data = pd.DataFrame(columns=columns)\n",
    "\n",
    "    # Iterate over listings and extract details\n",
    "    for listing in listings:\n",
    "        try:\n",
    "            make = \"Ford\"  # Predefined\n",
    "            year = listing.find('span', {'class': 'year'}).text.strip()\n",
    "            model = \"Mustang Mach-E\"  # Predefined in URL\n",
    "            trim = listing.find('span', {'class': 'trim'}).text.strip()\n",
    "            vin = listing['data-vin'] if 'data-vin' in listing.attrs else None\n",
    "            carfax_value = listing.find('div', {'class': 'carfax-value'}).text.strip()\n",
    "            mileage = listing.find('div', {'class': 'mileage'}).text.strip()\n",
    "            accidents = listing.find('div', {'class': 'accidents'}).text.strip()\n",
    "            damage = listing.find('div', {'class': 'damage'}).text.strip()\n",
    "            service_history = listing.find('div', {'class': 'service-history'}).text.strip()\n",
    "            owners = listing.find('div', {'class': 'owners'}).text.strip()\n",
    "            drive_type = listing.find('div', {'class': 'drive-type'}).text.strip()\n",
    "            recalls = listing.find('div', {'class': 'open-recalls'}).text.strip()\n",
    "            personal = listing.find('div', {'class': 'personal-use'}).text.strip()\n",
    "            location = listing.find('div', {'class': 'location'}).text.strip()\n",
    "            \n",
    "            # Append extracted data to DataFrame\n",
    "            data = data.append({\n",
    "                \"Make\": make, \"Year\": year, \"Model\": model, \"Trim\": trim, \"VIN #\": vin, \n",
    "                \"CARFAX Value\": carfax_value, \"Mileage\": mileage, \"Accidents\": accidents, \n",
    "                \"Damage\": damage, \"Service History\": service_history, \n",
    "                \"# Previous Owners\": owners, \"Drive Type\": drive_type, \n",
    "                \"Open Recalls\": recalls, \"Personal Vehicle\": personal, \"Location\": location\n",
    "            }, ignore_index=True)\n",
    "\n",
    "        except Exception as e:\n",
    "            print(f\"Error extracting data for listing: {str(e)}\")\n",
    "            continue\n",
    "\n",
    "    # Export to Excel\n",
    "    output_path = '/mnt/data/CARFAX_Data_Scraped.xlsx'\n",
    "    data.to_excel(output_path, index=False)\n",
    "    print(f\"Data has been exported to {output_path}\")"
   ]
  },
  {
   "cell_type": "code",
   "execution_count": 7,
   "metadata": {},
   "outputs": [],
   "source": [
    "def set_distance_to_unlimited(driver):\n",
    "\n",
    "    driver.set_window_size(1550, 830)\n",
    "    print(\"Window size set to 1550x830\")\n",
    "    driver.get_screenshot_as_file('images/screenshot1.png')\n",
    "    driver.execute_script(\"window.scrollTo(0,156)\")\n",
    "    print(\"Scrolled to position 156\")\n",
    "    driver.get_screenshot_as_file('images/screenshot2.png')\n",
    "    driver.find_element(By.CSS_SELECTOR, \".accordion > div:nth-child(1) .accordion_header\").click()\n",
    "    print(\"Clicked on accordion header\")\n",
    "    driver.get_screenshot_as_file('images/screenshot3.png')\n",
    "    time.sleep(1)\n",
    "    driver.find_element(By.XPATH, \"//div[@id=\\'srp-filter-container\\']/div[2]/div[3]/div[2]/div/details/div/div/div/div/select\").click()\n",
    "    dropdown = driver.find_element(By.XPATH, \"//div[@id=\\'srp-filter-container\\']/div[2]/div[3]/div[2]/div/details/div/div/div/div/select\")\n",
    "    dropdown.find_element(By.XPATH, \"//option[. = 'Unlimited']\").click()\n",
    "    print(\"Clicked on select dropdown\")\n",
    "    driver.get_screenshot_as_file('images/screenshot4.png')\n",
    "    time.sleep(1.2)\n",
    "\n",
    "\n",
    "    # self.driver.find_element(By.XPATH, \"//div[@id=\\'srp-filter-container\\']/div[2]/div[3]/div[2]/div/details/div/div/div/div/select\").click()\n",
    "    # dropdown = self.driver.find_element(By.XPATH, \"//div[@id=\\'srp-filter-container\\']/div[2]/div[3]/div[2]/div/details/div/div/div/div/select\")\n",
    "    # dropdown.find_element(By.XPATH, \"//option[. = '50']\").click()\n",
    "    # self.driver.find_element(By.XPATH, \"//div[@id=\\'srp-filter-container\\']/div[2]/div[3]/div[2]/div/details/div/div/div/div/select\").click()\n",
    "    # dropdown = self.driver.find_element(By.XPATH, \"//div[@id=\\'srp-filter-container\\']/div[2]/div[3]/div[2]/div/details/div/div/div/div/select\")\n",
    "    # dropdown.find_element(By.XPATH, \"//option[. = 'Unlimited']\").click()\n"
   ]
  },
  {
   "cell_type": "code",
   "execution_count": null,
   "metadata": {},
   "outputs": [],
   "source": []
  },
  {
   "cell_type": "code",
   "execution_count": null,
   "metadata": {},
   "outputs": [],
   "source": [
    "driver = webdriver.Chrome()  # Assuming ChromeDriver is in PATH\n",
    "\n",
    "url = \"https://www.carfax.com/Used-Ford-Mustang-Mach-E-Atlanta-GA_w9809_c16158\"  # Example URL\n",
    "scrape_carfax(driver, url)\n",
    "driver.quit()"
   ]
  },
  {
   "cell_type": "code",
   "execution_count": 8,
   "metadata": {},
   "outputs": [
    {
     "name": "stdout",
     "output_type": "stream",
     "text": [
      "Connecting to Scraping Browser...\n",
      "Connected! Starting scraping...\n",
      "Opening provided URL...\n",
      "Setting search radius to Unlimited...\n",
      "Window size set to 1550x830\n",
      "Scrolled to position 156\n",
      "Clicked on accordion header\n",
      "Could not set search radius to Unlimited: Message: javascript error: {\"status\":11,\"value\":\"Element is not currently visible and may not be manipulated\"}\n",
      "  (Session info: chrome=130.0.6723.92)\n",
      "\n",
      "Scraping vehicle listings...\n"
     ]
    },
    {
     "ename": "NameError",
     "evalue": "name 'BeautifulSoup' is not defined",
     "output_type": "error",
     "traceback": [
      "\u001b[1;31m---------------------------------------------------------------------------\u001b[0m",
      "\u001b[1;31mNameError\u001b[0m                                 Traceback (most recent call last)",
      "Cell \u001b[1;32mIn[8], line 18\u001b[0m\n\u001b[0;32m     14\u001b[0m         scrape_carfax(driver, url)\n\u001b[0;32m     17\u001b[0m \u001b[38;5;28;01mif\u001b[39;00m \u001b[38;5;18m__name__\u001b[39m \u001b[38;5;241m==\u001b[39m \u001b[38;5;124m'\u001b[39m\u001b[38;5;124m__main__\u001b[39m\u001b[38;5;124m'\u001b[39m:\n\u001b[1;32m---> 18\u001b[0m     \u001b[43mmain\u001b[49m\u001b[43m(\u001b[49m\u001b[43m)\u001b[49m\n",
      "Cell \u001b[1;32mIn[8], line 14\u001b[0m, in \u001b[0;36mmain\u001b[1;34m()\u001b[0m\n\u001b[0;32m     11\u001b[0m \u001b[38;5;28mprint\u001b[39m(\u001b[38;5;124m'\u001b[39m\u001b[38;5;124mConnected! Starting scraping...\u001b[39m\u001b[38;5;124m'\u001b[39m)\n\u001b[0;32m     12\u001b[0m url \u001b[38;5;241m=\u001b[39m \u001b[38;5;124m\"\u001b[39m\u001b[38;5;124mhttps://www.carfax.com/Used-Ford-Mustang-Mach-E-Atlanta-GA_w9809_c16158\u001b[39m\u001b[38;5;124m\"\u001b[39m  \u001b[38;5;66;03m# Example URL\u001b[39;00m\n\u001b[1;32m---> 14\u001b[0m \u001b[43mscrape_carfax\u001b[49m\u001b[43m(\u001b[49m\u001b[43mdriver\u001b[49m\u001b[43m,\u001b[49m\u001b[43m \u001b[49m\u001b[43murl\u001b[49m\u001b[43m)\u001b[49m\n",
      "Cell \u001b[1;32mIn[3], line 17\u001b[0m, in \u001b[0;36mscrape_carfax\u001b[1;34m(driver, url)\u001b[0m\n\u001b[0;32m     15\u001b[0m \u001b[38;5;66;03m# Scrape listings\u001b[39;00m\n\u001b[0;32m     16\u001b[0m \u001b[38;5;28mprint\u001b[39m(\u001b[38;5;124m\"\u001b[39m\u001b[38;5;124mScraping vehicle listings...\u001b[39m\u001b[38;5;124m\"\u001b[39m)\n\u001b[1;32m---> 17\u001b[0m soup \u001b[38;5;241m=\u001b[39m \u001b[43mBeautifulSoup\u001b[49m(driver\u001b[38;5;241m.\u001b[39mpage_source, \u001b[38;5;124m'\u001b[39m\u001b[38;5;124mhtml.parser\u001b[39m\u001b[38;5;124m'\u001b[39m)\n\u001b[0;32m     18\u001b[0m listings \u001b[38;5;241m=\u001b[39m soup\u001b[38;5;241m.\u001b[39mfind_all(\u001b[38;5;124m'\u001b[39m\u001b[38;5;124mdiv\u001b[39m\u001b[38;5;124m'\u001b[39m, class_\u001b[38;5;241m=\u001b[39m\u001b[38;5;124m'\u001b[39m\u001b[38;5;124msrp-list-item\u001b[39m\u001b[38;5;124m'\u001b[39m)  \u001b[38;5;66;03m# Adjust class if necessary\u001b[39;00m\n\u001b[0;32m     20\u001b[0m \u001b[38;5;66;03m# Initialize a DataFrame to store results\u001b[39;00m\n",
      "\u001b[1;31mNameError\u001b[0m: name 'BeautifulSoup' is not defined"
     ]
    }
   ],
   "source": [
    "def main():\n",
    "    # Your existing Bright Data setup\n",
    "    AUTH = open('keys/brightdata_key.txt', 'r').read()\n",
    "    SBR_WEBDRIVER = f'https://{AUTH}@brd.superproxy.io:9515'\n",
    "    \n",
    "    print('Connecting to Scraping Browser...')\n",
    "    sbr_connection = ChromiumRemoteConnection(SBR_WEBDRIVER, 'goog', 'chrome')\n",
    "    \n",
    "    \n",
    "    with Remote(sbr_connection, options=ChromeOptions()) as driver:\n",
    "        print('Connected! Starting scraping...')\n",
    "        url = \"https://www.carfax.com/Used-Ford-Mustang-Mach-E-Atlanta-GA_w9809_c16158\"  # Example URL\n",
    "        \n",
    "        scrape_carfax(driver, url)\n",
    "        \n",
    "\n",
    "if __name__ == '__main__':\n",
    "    main()"
   ]
  },
  {
   "cell_type": "code",
   "execution_count": null,
   "metadata": {},
   "outputs": [],
   "source": []
  }
 ],
 "metadata": {
  "kernelspec": {
   "display_name": "venv",
   "language": "python",
   "name": "python3"
  },
  "language_info": {
   "codemirror_mode": {
    "name": "ipython",
    "version": 3
   },
   "file_extension": ".py",
   "mimetype": "text/x-python",
   "name": "python",
   "nbconvert_exporter": "python",
   "pygments_lexer": "ipython3",
   "version": "3.9.18"
  }
 },
 "nbformat": 4,
 "nbformat_minor": 2
}
