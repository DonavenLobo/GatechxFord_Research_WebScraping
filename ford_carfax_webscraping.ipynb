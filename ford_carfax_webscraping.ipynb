{
 "cells": [
  {
   "cell_type": "markdown",
   "metadata": {},
   "source": [
    "# CARFAX WEB SCRAPING\n",
    "- Web Scraping for Ford Mach-E and Edge MY 21-24 from CarFax\n"
   ]
  },
  {
   "cell_type": "code",
   "execution_count": 1,
   "metadata": {},
   "outputs": [],
   "source": [
    "from selenium import webdriver\n",
    "from selenium.webdriver.common.by import By\n",
    "from selenium.webdriver.common.keys import Keys\n",
    "from selenium.webdriver.chrome.service import Service\n",
    "from bs4 import BeautifulSoup\n",
    "import pandas as pd\n",
    "import time"
   ]
  },
  {
   "cell_type": "code",
   "execution_count": null,
   "metadata": {},
   "outputs": [],
   "source": [
    "# # Setup: path to your WebDriver (adjust the path accordingly)\n",
    "# service = Service('/path/to/chromedriver')  # Update this to your path\n",
    "# driver = webdriver.Chrome(service=service)"
   ]
  },
  {
   "cell_type": "code",
   "execution_count": null,
   "metadata": {},
   "outputs": [],
   "source": [
    "## If we want this to run in the background\n",
    "\n",
    "# chrome_options = Options()\n",
    "# chrome_options.add_argument(\"--headless\")  # Enable headless mode\n",
    "# driver = webdriver.Chrome(options=chrome_options)"
   ]
  },
  {
   "cell_type": "code",
   "execution_count": 26,
   "metadata": {},
   "outputs": [],
   "source": [
    "chrome_options = webdriver.ChromeOptions()\n",
    "# Add various Chrome options to appear more human-like\n",
    "chrome_options.add_argument('--disable-blink-features=AutomationControlled')\n",
    "chrome_options.add_argument('--disable-infobars')\n",
    "chrome_options.add_argument('--disable-dev-shm-usage')\n",
    "chrome_options.add_argument('--no-sandbox')\n",
    "chrome_options.add_argument('--disable-gpu')\n",
    "chrome_options.add_argument(f'user-agent=Mozilla/5.0 (Windows NT 10.0; Win64; x64) AppleWebKit/537.36 (KHTML, like Gecko) Chrome/122.0.0.0 Safari/537.36')\n",
    "chrome_options.add_argument('--incognito')\n",
    "AUTH = \n",
    "PROXY = f'https://{AUTH}@brd.superproxy.io:9515'\n",
    "chrome_options.add_argument(f'--proxy-server={PROXY}')\n",
    "\n",
    "# Remove automation flags\n",
    "chrome_options.add_experimental_option('useAutomationExtension', False)\n",
    "chrome_options.add_experimental_option('excludeSwitches', ['enable-automation'])\n",
    "\n",
    "driver = webdriver.Chrome(options=chrome_options)"
   ]
  },
  {
   "cell_type": "code",
   "execution_count": null,
   "metadata": {},
   "outputs": [],
   "source": [
    "AUTH = \n",
    "SBR_WEBDRIVER = f'https://{AUTH}@brd.superproxy.io:9515'"
   ]
  },
  {
   "cell_type": "code",
   "execution_count": 22,
   "metadata": {},
   "outputs": [],
   "source": [
    "# Parameters for the specific vehicle search\n",
    "base_url = \"https://www.carfax.com\"\n",
    "search_params = {\n",
    "    \"Make\": \"Ford\",\n",
    "    \"Model\": [\"Mustang Mach-E\", \"Edge\"],\n",
    "    \"Min Year\": \"2021\",\n",
    "    \"Location_Max_Distance_Miles\": \"Unlimited\",\n",
    "    \"Location_zip\": \"30309\"\n",
    "}\n",
    "\n",
    "# Initialize DataFrame to store results\n",
    "columns = [\n",
    "    \"Make\", \"Year\", \"Model\", \"Trim\", \"VIN #\", \"CARFAX Value\", \"Mileage\", \n",
    "    \"Accidents\", \"Damage\", \"Service History\", \"# Previous Owners\", \n",
    "    \"Drive Type\", \"Open Recalls\", \"Personal Vehicle\", \"Location\"\n",
    "]\n",
    "data = pd.DataFrame(columns=columns)"
   ]
  },
  {
   "cell_type": "code",
   "execution_count": 25,
   "metadata": {},
   "outputs": [],
   "source": [
    "# Load the Carfax search page\n",
    "driver.get(base_url)\n",
    "time.sleep(3)  # Wait for the page to load"
   ]
  },
  {
   "cell_type": "code",
   "execution_count": null,
   "metadata": {},
   "outputs": [],
   "source": []
  }
 ],
 "metadata": {
  "kernelspec": {
   "display_name": "venv",
   "language": "python",
   "name": "python3"
  },
  "language_info": {
   "codemirror_mode": {
    "name": "ipython",
    "version": 3
   },
   "file_extension": ".py",
   "mimetype": "text/x-python",
   "name": "python",
   "nbconvert_exporter": "python",
   "pygments_lexer": "ipython3",
   "version": "3.9.18"
  }
 },
 "nbformat": 4,
 "nbformat_minor": 2
}
